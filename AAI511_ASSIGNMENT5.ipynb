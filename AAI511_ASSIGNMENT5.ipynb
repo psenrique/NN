{
  "nbformat": 4,
  "nbformat_minor": 0,
  "metadata": {
    "colab": {
      "provenance": []
    },
    "kernelspec": {
      "name": "python3",
      "display_name": "Python 3"
    },
    "language_info": {
      "name": "python"
    }
  },
  "cells": [
    {
      "cell_type": "code",
      "execution_count": null,
      "metadata": {
        "id": "I0988jo-Y452"
      },
      "outputs": [],
      "source": [
        "#import libraries\n",
        "import pandas as pd\n",
        "# import matplotlib.pyplot as plt\n",
        "from sklearn.model_selection import train_test_split\n",
        "from sklearn.preprocessing import MinMaxScaler\n",
        "from sklearn import linear_model\n",
        "from sklearn.neural_network import BernoulliRBM\n",
        "from sklearn.pipeline import Pipeline\n",
        "from sklearn.base import clone\n",
        "from sklearn import metrics"
      ]
    },
    {
      "cell_type": "code",
      "source": [
        "#Connect to drive to access datasets\n",
        "from google.colab import drive\n",
        "drive.mount('/content/drive')\n",
        "import warnings\n",
        "warnings.filterwarnings(\"ignore\")"
      ],
      "metadata": {
        "colab": {
          "base_uri": "https://localhost:8080/"
        },
        "id": "GlA_DAxeY7WE",
        "outputId": "b7807909-861e-4b98-be97-a0f5e4d39de2"
      },
      "execution_count": null,
      "outputs": [
        {
          "output_type": "stream",
          "name": "stdout",
          "text": [
            "Mounted at /content/drive\n"
          ]
        }
      ]
    },
    {
      "cell_type": "code",
      "source": [
        "#Load datasets\n",
        "wines = pd.DataFrame()\n",
        "red = pd.read_csv('/content/drive/MyDrive/AAI511/MODULE5/wine+quality/winequality-red.csv', sep=';')\n",
        "white = pd.read_csv('/content/drive/MyDrive/AAI511/MODULE5/wine+quality/winequality-white.csv', sep=';')\n",
        "wines = wines.append(red,ignore_index=True)\n",
        "wines = wines.append(white,ignore_index=True)\n",
        "print(wines.shape)\n",
        "wines.head()"
      ],
      "metadata": {
        "colab": {
          "base_uri": "https://localhost:8080/",
          "height": 224
        },
        "id": "e-cT6eydbeiQ",
        "outputId": "95729ef9-f26d-4e16-c6d8-d92063b883e7"
      },
      "execution_count": null,
      "outputs": [
        {
          "output_type": "stream",
          "name": "stdout",
          "text": [
            "(6497, 12)\n"
          ]
        },
        {
          "output_type": "execute_result",
          "data": {
            "text/plain": [
              "   fixed acidity  volatile acidity  citric acid  residual sugar  chlorides  \\\n",
              "0            7.4              0.70         0.00             1.9      0.076   \n",
              "1            7.8              0.88         0.00             2.6      0.098   \n",
              "2            7.8              0.76         0.04             2.3      0.092   \n",
              "3           11.2              0.28         0.56             1.9      0.075   \n",
              "4            7.4              0.70         0.00             1.9      0.076   \n",
              "\n",
              "   free sulfur dioxide  total sulfur dioxide  density    pH  sulphates  \\\n",
              "0                 11.0                  34.0   0.9978  3.51       0.56   \n",
              "1                 25.0                  67.0   0.9968  3.20       0.68   \n",
              "2                 15.0                  54.0   0.9970  3.26       0.65   \n",
              "3                 17.0                  60.0   0.9980  3.16       0.58   \n",
              "4                 11.0                  34.0   0.9978  3.51       0.56   \n",
              "\n",
              "   alcohol  quality  \n",
              "0      9.4        5  \n",
              "1      9.8        5  \n",
              "2      9.8        5  \n",
              "3      9.8        6  \n",
              "4      9.4        5  "
            ],
            "text/html": [
              "\n",
              "\n",
              "  <div id=\"df-660ba1a3-9197-4c65-b072-68748ce8a796\">\n",
              "    <div class=\"colab-df-container\">\n",
              "      <div>\n",
              "<style scoped>\n",
              "    .dataframe tbody tr th:only-of-type {\n",
              "        vertical-align: middle;\n",
              "    }\n",
              "\n",
              "    .dataframe tbody tr th {\n",
              "        vertical-align: top;\n",
              "    }\n",
              "\n",
              "    .dataframe thead th {\n",
              "        text-align: right;\n",
              "    }\n",
              "</style>\n",
              "<table border=\"1\" class=\"dataframe\">\n",
              "  <thead>\n",
              "    <tr style=\"text-align: right;\">\n",
              "      <th></th>\n",
              "      <th>fixed acidity</th>\n",
              "      <th>volatile acidity</th>\n",
              "      <th>citric acid</th>\n",
              "      <th>residual sugar</th>\n",
              "      <th>chlorides</th>\n",
              "      <th>free sulfur dioxide</th>\n",
              "      <th>total sulfur dioxide</th>\n",
              "      <th>density</th>\n",
              "      <th>pH</th>\n",
              "      <th>sulphates</th>\n",
              "      <th>alcohol</th>\n",
              "      <th>quality</th>\n",
              "    </tr>\n",
              "  </thead>\n",
              "  <tbody>\n",
              "    <tr>\n",
              "      <th>0</th>\n",
              "      <td>7.4</td>\n",
              "      <td>0.70</td>\n",
              "      <td>0.00</td>\n",
              "      <td>1.9</td>\n",
              "      <td>0.076</td>\n",
              "      <td>11.0</td>\n",
              "      <td>34.0</td>\n",
              "      <td>0.9978</td>\n",
              "      <td>3.51</td>\n",
              "      <td>0.56</td>\n",
              "      <td>9.4</td>\n",
              "      <td>5</td>\n",
              "    </tr>\n",
              "    <tr>\n",
              "      <th>1</th>\n",
              "      <td>7.8</td>\n",
              "      <td>0.88</td>\n",
              "      <td>0.00</td>\n",
              "      <td>2.6</td>\n",
              "      <td>0.098</td>\n",
              "      <td>25.0</td>\n",
              "      <td>67.0</td>\n",
              "      <td>0.9968</td>\n",
              "      <td>3.20</td>\n",
              "      <td>0.68</td>\n",
              "      <td>9.8</td>\n",
              "      <td>5</td>\n",
              "    </tr>\n",
              "    <tr>\n",
              "      <th>2</th>\n",
              "      <td>7.8</td>\n",
              "      <td>0.76</td>\n",
              "      <td>0.04</td>\n",
              "      <td>2.3</td>\n",
              "      <td>0.092</td>\n",
              "      <td>15.0</td>\n",
              "      <td>54.0</td>\n",
              "      <td>0.9970</td>\n",
              "      <td>3.26</td>\n",
              "      <td>0.65</td>\n",
              "      <td>9.8</td>\n",
              "      <td>5</td>\n",
              "    </tr>\n",
              "    <tr>\n",
              "      <th>3</th>\n",
              "      <td>11.2</td>\n",
              "      <td>0.28</td>\n",
              "      <td>0.56</td>\n",
              "      <td>1.9</td>\n",
              "      <td>0.075</td>\n",
              "      <td>17.0</td>\n",
              "      <td>60.0</td>\n",
              "      <td>0.9980</td>\n",
              "      <td>3.16</td>\n",
              "      <td>0.58</td>\n",
              "      <td>9.8</td>\n",
              "      <td>6</td>\n",
              "    </tr>\n",
              "    <tr>\n",
              "      <th>4</th>\n",
              "      <td>7.4</td>\n",
              "      <td>0.70</td>\n",
              "      <td>0.00</td>\n",
              "      <td>1.9</td>\n",
              "      <td>0.076</td>\n",
              "      <td>11.0</td>\n",
              "      <td>34.0</td>\n",
              "      <td>0.9978</td>\n",
              "      <td>3.51</td>\n",
              "      <td>0.56</td>\n",
              "      <td>9.4</td>\n",
              "      <td>5</td>\n",
              "    </tr>\n",
              "  </tbody>\n",
              "</table>\n",
              "</div>\n",
              "      <button class=\"colab-df-convert\" onclick=\"convertToInteractive('df-660ba1a3-9197-4c65-b072-68748ce8a796')\"\n",
              "              title=\"Convert this dataframe to an interactive table.\"\n",
              "              style=\"display:none;\">\n",
              "\n",
              "  <svg xmlns=\"http://www.w3.org/2000/svg\" height=\"24px\"viewBox=\"0 0 24 24\"\n",
              "       width=\"24px\">\n",
              "    <path d=\"M0 0h24v24H0V0z\" fill=\"none\"/>\n",
              "    <path d=\"M18.56 5.44l.94 2.06.94-2.06 2.06-.94-2.06-.94-.94-2.06-.94 2.06-2.06.94zm-11 1L8.5 8.5l.94-2.06 2.06-.94-2.06-.94L8.5 2.5l-.94 2.06-2.06.94zm10 10l.94 2.06.94-2.06 2.06-.94-2.06-.94-.94-2.06-.94 2.06-2.06.94z\"/><path d=\"M17.41 7.96l-1.37-1.37c-.4-.4-.92-.59-1.43-.59-.52 0-1.04.2-1.43.59L10.3 9.45l-7.72 7.72c-.78.78-.78 2.05 0 2.83L4 21.41c.39.39.9.59 1.41.59.51 0 1.02-.2 1.41-.59l7.78-7.78 2.81-2.81c.8-.78.8-2.07 0-2.86zM5.41 20L4 18.59l7.72-7.72 1.47 1.35L5.41 20z\"/>\n",
              "  </svg>\n",
              "      </button>\n",
              "\n",
              "\n",
              "\n",
              "    <div id=\"df-3e6c6836-c4a7-4f70-b238-80742a498fa6\">\n",
              "      <button class=\"colab-df-quickchart\" onclick=\"quickchart('df-3e6c6836-c4a7-4f70-b238-80742a498fa6')\"\n",
              "              title=\"Suggest charts.\"\n",
              "              style=\"display:none;\">\n",
              "\n",
              "<svg xmlns=\"http://www.w3.org/2000/svg\" height=\"24px\"viewBox=\"0 0 24 24\"\n",
              "     width=\"24px\">\n",
              "    <g>\n",
              "        <path d=\"M19 3H5c-1.1 0-2 .9-2 2v14c0 1.1.9 2 2 2h14c1.1 0 2-.9 2-2V5c0-1.1-.9-2-2-2zM9 17H7v-7h2v7zm4 0h-2V7h2v10zm4 0h-2v-4h2v4z\"/>\n",
              "    </g>\n",
              "</svg>\n",
              "      </button>\n",
              "    </div>\n",
              "\n",
              "<style>\n",
              "  .colab-df-quickchart {\n",
              "    background-color: #E8F0FE;\n",
              "    border: none;\n",
              "    border-radius: 50%;\n",
              "    cursor: pointer;\n",
              "    display: none;\n",
              "    fill: #1967D2;\n",
              "    height: 32px;\n",
              "    padding: 0 0 0 0;\n",
              "    width: 32px;\n",
              "  }\n",
              "\n",
              "  .colab-df-quickchart:hover {\n",
              "    background-color: #E2EBFA;\n",
              "    box-shadow: 0px 1px 2px rgba(60, 64, 67, 0.3), 0px 1px 3px 1px rgba(60, 64, 67, 0.15);\n",
              "    fill: #174EA6;\n",
              "  }\n",
              "\n",
              "  [theme=dark] .colab-df-quickchart {\n",
              "    background-color: #3B4455;\n",
              "    fill: #D2E3FC;\n",
              "  }\n",
              "\n",
              "  [theme=dark] .colab-df-quickchart:hover {\n",
              "    background-color: #434B5C;\n",
              "    box-shadow: 0px 1px 3px 1px rgba(0, 0, 0, 0.15);\n",
              "    filter: drop-shadow(0px 1px 2px rgba(0, 0, 0, 0.3));\n",
              "    fill: #FFFFFF;\n",
              "  }\n",
              "</style>\n",
              "\n",
              "    <script>\n",
              "      async function quickchart(key) {\n",
              "        const containerElement = document.querySelector('#' + key);\n",
              "        const charts = await google.colab.kernel.invokeFunction(\n",
              "            'suggestCharts', [key], {});\n",
              "      }\n",
              "    </script>\n",
              "\n",
              "      <script>\n",
              "\n",
              "function displayQuickchartButton(domScope) {\n",
              "  let quickchartButtonEl =\n",
              "    domScope.querySelector('#df-3e6c6836-c4a7-4f70-b238-80742a498fa6 button.colab-df-quickchart');\n",
              "  quickchartButtonEl.style.display =\n",
              "    google.colab.kernel.accessAllowed ? 'block' : 'none';\n",
              "}\n",
              "\n",
              "        displayQuickchartButton(document);\n",
              "      </script>\n",
              "      <style>\n",
              "    .colab-df-container {\n",
              "      display:flex;\n",
              "      flex-wrap:wrap;\n",
              "      gap: 12px;\n",
              "    }\n",
              "\n",
              "    .colab-df-convert {\n",
              "      background-color: #E8F0FE;\n",
              "      border: none;\n",
              "      border-radius: 50%;\n",
              "      cursor: pointer;\n",
              "      display: none;\n",
              "      fill: #1967D2;\n",
              "      height: 32px;\n",
              "      padding: 0 0 0 0;\n",
              "      width: 32px;\n",
              "    }\n",
              "\n",
              "    .colab-df-convert:hover {\n",
              "      background-color: #E2EBFA;\n",
              "      box-shadow: 0px 1px 2px rgba(60, 64, 67, 0.3), 0px 1px 3px 1px rgba(60, 64, 67, 0.15);\n",
              "      fill: #174EA6;\n",
              "    }\n",
              "\n",
              "    [theme=dark] .colab-df-convert {\n",
              "      background-color: #3B4455;\n",
              "      fill: #D2E3FC;\n",
              "    }\n",
              "\n",
              "    [theme=dark] .colab-df-convert:hover {\n",
              "      background-color: #434B5C;\n",
              "      box-shadow: 0px 1px 3px 1px rgba(0, 0, 0, 0.15);\n",
              "      filter: drop-shadow(0px 1px 2px rgba(0, 0, 0, 0.3));\n",
              "      fill: #FFFFFF;\n",
              "    }\n",
              "  </style>\n",
              "\n",
              "      <script>\n",
              "        const buttonEl =\n",
              "          document.querySelector('#df-660ba1a3-9197-4c65-b072-68748ce8a796 button.colab-df-convert');\n",
              "        buttonEl.style.display =\n",
              "          google.colab.kernel.accessAllowed ? 'block' : 'none';\n",
              "\n",
              "        async function convertToInteractive(key) {\n",
              "          const element = document.querySelector('#df-660ba1a3-9197-4c65-b072-68748ce8a796');\n",
              "          const dataTable =\n",
              "            await google.colab.kernel.invokeFunction('convertToInteractive',\n",
              "                                                     [key], {});\n",
              "          if (!dataTable) return;\n",
              "\n",
              "          const docLinkHtml = 'Like what you see? Visit the ' +\n",
              "            '<a target=\"_blank\" href=https://colab.research.google.com/notebooks/data_table.ipynb>data table notebook</a>'\n",
              "            + ' to learn more about interactive tables.';\n",
              "          element.innerHTML = '';\n",
              "          dataTable['output_type'] = 'display_data';\n",
              "          await google.colab.output.renderOutput(dataTable, element);\n",
              "          const docLink = document.createElement('div');\n",
              "          docLink.innerHTML = docLinkHtml;\n",
              "          element.appendChild(docLink);\n",
              "        }\n",
              "      </script>\n",
              "    </div>\n",
              "  </div>\n"
            ]
          },
          "metadata": {},
          "execution_count": 3
        }
      ]
    },
    {
      "cell_type": "code",
      "source": [
        "#Convert to a binary classification problem\n",
        "#Scale features\n",
        "#Quality rating of 5 and below is bad = 0\n",
        "#Quality rating of 6 and above is good = 1\n",
        "#Split the data into training and testing sets using an 80:20 ratio\n",
        "x = wines.drop(columns=['quality'])\n",
        "scaler = MinMaxScaler(feature_range=(0, 1))\n",
        "x = scaler.fit_transform(x)\n",
        "y = wines['quality']\n",
        "for i in range(0,6):\n",
        "  y = y.replace(i,0)\n",
        "for i in range(6,11):\n",
        "  y = y.replace(i,1)\n",
        "x_train, x_test, y_train, y_test = train_test_split(x, y, test_size=0.1, random_state=0)\n",
        "x_train, x_val, y_train, y_val = train_test_split(x_train, y_train, test_size=0.2, random_state=0)"
      ],
      "metadata": {
        "id": "GE4BitUPct36"
      },
      "execution_count": null,
      "outputs": []
    },
    {
      "cell_type": "code",
      "source": [
        "def RBM (lr, n, b):\n",
        "  logistic = linear_model.LogisticRegression(penalty='l2',solver='liblinear', C=500)\n",
        "  rbm = BernoulliRBM(random_state=0, verbose=1)\n",
        "\n",
        "  rbm_features_classifier = Pipeline(steps=[(\"rbm\", rbm), (\"logistic\", logistic)])\n",
        "\n",
        "  rbm.learning_rate = lr\n",
        "  rbm.n_components = n #binary hidden layers\n",
        "  rbm.batch_size = b\n",
        "\n",
        "  rbm_features_classifier.fit(x_train, y_train)\n",
        "  Y_pred = rbm_features_classifier.predict(x_val)\n",
        "  print(\n",
        "      \"Logistic regression using RBM features:\\n%s\\n\"\n",
        "      % (metrics.classification_report(y_val, Y_pred))\n",
        "  )"
      ],
      "metadata": {
        "id": "yqTr3PGKJrIy"
      },
      "execution_count": null,
      "outputs": []
    },
    {
      "cell_type": "code",
      "source": [
        "#default parameters\n",
        "RBM(0.1,256,10)"
      ],
      "metadata": {
        "colab": {
          "base_uri": "https://localhost:8080/"
        },
        "id": "8B6642g6NIWN",
        "outputId": "bb5730f6-446a-4f08-873d-b30a34f92238"
      },
      "execution_count": null,
      "outputs": [
        {
          "output_type": "stream",
          "name": "stdout",
          "text": [
            "[BernoulliRBM] Iteration 1, pseudo-likelihood = -3.41, time = 0.09s\n",
            "[BernoulliRBM] Iteration 2, pseudo-likelihood = -3.24, time = 0.21s\n",
            "[BernoulliRBM] Iteration 3, pseudo-likelihood = -3.50, time = 0.20s\n",
            "[BernoulliRBM] Iteration 4, pseudo-likelihood = -4.01, time = 0.21s\n",
            "[BernoulliRBM] Iteration 5, pseudo-likelihood = -4.12, time = 0.21s\n",
            "[BernoulliRBM] Iteration 6, pseudo-likelihood = -3.43, time = 0.21s\n",
            "[BernoulliRBM] Iteration 7, pseudo-likelihood = -3.41, time = 0.20s\n",
            "[BernoulliRBM] Iteration 8, pseudo-likelihood = -3.67, time = 0.19s\n",
            "[BernoulliRBM] Iteration 9, pseudo-likelihood = -3.74, time = 0.19s\n",
            "[BernoulliRBM] Iteration 10, pseudo-likelihood = -3.76, time = 0.19s\n",
            "Logistic regression using RBM features:\n",
            "              precision    recall  f1-score   support\n",
            "\n",
            "           0       0.88      0.02      0.03       432\n",
            "           1       0.63      1.00      0.78       738\n",
            "\n",
            "    accuracy                           0.64      1170\n",
            "   macro avg       0.75      0.51      0.40      1170\n",
            "weighted avg       0.72      0.64      0.50      1170\n",
            "\n",
            "\n"
          ]
        }
      ]
    },
    {
      "cell_type": "code",
      "source": [
        "RBM(0.01,256,10)"
      ],
      "metadata": {
        "colab": {
          "base_uri": "https://localhost:8080/"
        },
        "id": "WN3l4YHIbdpA",
        "outputId": "22d11d91-5ec7-4043-b2e8-9ed51646b5a7"
      },
      "execution_count": null,
      "outputs": [
        {
          "output_type": "stream",
          "name": "stdout",
          "text": [
            "[BernoulliRBM] Iteration 1, pseudo-likelihood = -3.96, time = 0.11s\n",
            "[BernoulliRBM] Iteration 2, pseudo-likelihood = -3.71, time = 0.20s\n",
            "[BernoulliRBM] Iteration 3, pseudo-likelihood = -3.83, time = 0.20s\n",
            "[BernoulliRBM] Iteration 4, pseudo-likelihood = -3.89, time = 0.22s\n",
            "[BernoulliRBM] Iteration 5, pseudo-likelihood = -3.87, time = 0.20s\n",
            "[BernoulliRBM] Iteration 6, pseudo-likelihood = -3.94, time = 0.20s\n",
            "[BernoulliRBM] Iteration 7, pseudo-likelihood = -3.76, time = 0.19s\n",
            "[BernoulliRBM] Iteration 8, pseudo-likelihood = -3.85, time = 0.20s\n",
            "[BernoulliRBM] Iteration 9, pseudo-likelihood = -3.89, time = 0.19s\n",
            "[BernoulliRBM] Iteration 10, pseudo-likelihood = -3.88, time = 0.19s\n",
            "Logistic regression using RBM features:\n",
            "              precision    recall  f1-score   support\n",
            "\n",
            "           0       0.75      0.13      0.22       432\n",
            "           1       0.66      0.97      0.78       738\n",
            "\n",
            "    accuracy                           0.66      1170\n",
            "   macro avg       0.70      0.55      0.50      1170\n",
            "weighted avg       0.69      0.66      0.58      1170\n",
            "\n",
            "\n"
          ]
        }
      ]
    },
    {
      "cell_type": "code",
      "source": [
        "RBM(0.001,256,10)"
      ],
      "metadata": {
        "colab": {
          "base_uri": "https://localhost:8080/"
        },
        "id": "O-Ric0sIblCW",
        "outputId": "8a96aba6-09b4-47d4-8c63-7a0b388a1473"
      },
      "execution_count": null,
      "outputs": [
        {
          "output_type": "stream",
          "name": "stdout",
          "text": [
            "[BernoulliRBM] Iteration 1, pseudo-likelihood = -4.01, time = 0.11s\n",
            "[BernoulliRBM] Iteration 2, pseudo-likelihood = -3.91, time = 0.19s\n",
            "[BernoulliRBM] Iteration 3, pseudo-likelihood = -3.91, time = 0.19s\n",
            "[BernoulliRBM] Iteration 4, pseudo-likelihood = -3.93, time = 0.20s\n",
            "[BernoulliRBM] Iteration 5, pseudo-likelihood = -3.92, time = 0.19s\n",
            "[BernoulliRBM] Iteration 6, pseudo-likelihood = -3.93, time = 0.19s\n",
            "[BernoulliRBM] Iteration 7, pseudo-likelihood = -3.91, time = 0.19s\n",
            "[BernoulliRBM] Iteration 8, pseudo-likelihood = -3.90, time = 0.19s\n",
            "[BernoulliRBM] Iteration 9, pseudo-likelihood = -3.92, time = 0.19s\n",
            "[BernoulliRBM] Iteration 10, pseudo-likelihood = -3.92, time = 0.20s\n",
            "Logistic regression using RBM features:\n",
            "              precision    recall  f1-score   support\n",
            "\n",
            "           0       0.66      0.51      0.58       432\n",
            "           1       0.75      0.85      0.79       738\n",
            "\n",
            "    accuracy                           0.72      1170\n",
            "   macro avg       0.70      0.68      0.69      1170\n",
            "weighted avg       0.72      0.72      0.71      1170\n",
            "\n",
            "\n"
          ]
        }
      ]
    },
    {
      "cell_type": "code",
      "source": [
        "RBM(0.001,100,10)"
      ],
      "metadata": {
        "colab": {
          "base_uri": "https://localhost:8080/"
        },
        "id": "yq1FXpFCbtRO",
        "outputId": "4e5950b7-3445-4988-8c39-2f6a3f30200e"
      },
      "execution_count": null,
      "outputs": [
        {
          "output_type": "stream",
          "name": "stdout",
          "text": [
            "[BernoulliRBM] Iteration 1, pseudo-likelihood = -4.35, time = 0.08s\n",
            "[BernoulliRBM] Iteration 2, pseudo-likelihood = -4.05, time = 0.12s\n",
            "[BernoulliRBM] Iteration 3, pseudo-likelihood = -3.95, time = 0.12s\n",
            "[BernoulliRBM] Iteration 4, pseudo-likelihood = -3.94, time = 0.12s\n",
            "[BernoulliRBM] Iteration 5, pseudo-likelihood = -3.94, time = 0.13s\n",
            "[BernoulliRBM] Iteration 6, pseudo-likelihood = -3.93, time = 0.11s\n",
            "[BernoulliRBM] Iteration 7, pseudo-likelihood = -3.95, time = 0.11s\n",
            "[BernoulliRBM] Iteration 8, pseudo-likelihood = -3.93, time = 0.11s\n",
            "[BernoulliRBM] Iteration 9, pseudo-likelihood = -3.94, time = 0.11s\n",
            "[BernoulliRBM] Iteration 10, pseudo-likelihood = -3.96, time = 0.11s\n",
            "Logistic regression using RBM features:\n",
            "              precision    recall  f1-score   support\n",
            "\n",
            "           0       0.67      0.47      0.55       432\n",
            "           1       0.74      0.86      0.80       738\n",
            "\n",
            "    accuracy                           0.72      1170\n",
            "   macro avg       0.70      0.67      0.67      1170\n",
            "weighted avg       0.71      0.72      0.71      1170\n",
            "\n",
            "\n"
          ]
        }
      ]
    },
    {
      "cell_type": "code",
      "source": [
        "RBM(0.001,250,10)"
      ],
      "metadata": {
        "colab": {
          "base_uri": "https://localhost:8080/"
        },
        "id": "Qq-AdBPyywin",
        "outputId": "75fedabe-65eb-4da4-f538-d2bd01a361e5"
      },
      "execution_count": null,
      "outputs": [
        {
          "output_type": "stream",
          "name": "stdout",
          "text": [
            "[BernoulliRBM] Iteration 1, pseudo-likelihood = -3.98, time = 0.11s\n",
            "[BernoulliRBM] Iteration 2, pseudo-likelihood = -3.91, time = 0.19s\n",
            "[BernoulliRBM] Iteration 3, pseudo-likelihood = -3.88, time = 0.19s\n",
            "[BernoulliRBM] Iteration 4, pseudo-likelihood = -3.92, time = 0.20s\n",
            "[BernoulliRBM] Iteration 5, pseudo-likelihood = -3.91, time = 0.24s\n",
            "[BernoulliRBM] Iteration 6, pseudo-likelihood = -3.89, time = 0.30s\n",
            "[BernoulliRBM] Iteration 7, pseudo-likelihood = -3.93, time = 0.30s\n",
            "[BernoulliRBM] Iteration 8, pseudo-likelihood = -3.91, time = 0.30s\n",
            "[BernoulliRBM] Iteration 9, pseudo-likelihood = -3.90, time = 0.30s\n",
            "[BernoulliRBM] Iteration 10, pseudo-likelihood = -3.93, time = 0.31s\n",
            "Logistic regression using RBM features:\n",
            "              precision    recall  f1-score   support\n",
            "\n",
            "           0       0.66      0.52      0.58       432\n",
            "           1       0.75      0.85      0.80       738\n",
            "\n",
            "    accuracy                           0.73      1170\n",
            "   macro avg       0.71      0.68      0.69      1170\n",
            "weighted avg       0.72      0.73      0.72      1170\n",
            "\n",
            "\n"
          ]
        }
      ]
    },
    {
      "cell_type": "code",
      "source": [
        "RBM(0.001,500,10)"
      ],
      "metadata": {
        "colab": {
          "base_uri": "https://localhost:8080/"
        },
        "id": "mzF_Sg23bzyk",
        "outputId": "cef603ef-8856-41a6-cbb3-7c8cd7e33773"
      },
      "execution_count": null,
      "outputs": [
        {
          "output_type": "stream",
          "name": "stdout",
          "text": [
            "[BernoulliRBM] Iteration 1, pseudo-likelihood = -3.89, time = 0.23s\n",
            "[BernoulliRBM] Iteration 2, pseudo-likelihood = -3.89, time = 0.50s\n",
            "[BernoulliRBM] Iteration 3, pseudo-likelihood = -3.83, time = 0.35s\n",
            "[BernoulliRBM] Iteration 4, pseudo-likelihood = -3.96, time = 0.30s\n",
            "[BernoulliRBM] Iteration 5, pseudo-likelihood = -3.86, time = 0.30s\n",
            "[BernoulliRBM] Iteration 6, pseudo-likelihood = -3.89, time = 0.30s\n",
            "[BernoulliRBM] Iteration 7, pseudo-likelihood = -3.88, time = 0.30s\n",
            "[BernoulliRBM] Iteration 8, pseudo-likelihood = -3.92, time = 0.31s\n",
            "[BernoulliRBM] Iteration 9, pseudo-likelihood = -3.89, time = 0.30s\n",
            "[BernoulliRBM] Iteration 10, pseudo-likelihood = -3.91, time = 0.30s\n",
            "Logistic regression using RBM features:\n",
            "              precision    recall  f1-score   support\n",
            "\n",
            "           0       0.66      0.52      0.58       432\n",
            "           1       0.75      0.84      0.80       738\n",
            "\n",
            "    accuracy                           0.73      1170\n",
            "   macro avg       0.71      0.68      0.69      1170\n",
            "weighted avg       0.72      0.73      0.72      1170\n",
            "\n",
            "\n"
          ]
        }
      ]
    },
    {
      "cell_type": "code",
      "source": [
        "RBM(0.001,256,1)"
      ],
      "metadata": {
        "colab": {
          "base_uri": "https://localhost:8080/"
        },
        "id": "gBrJBpGfcJ6s",
        "outputId": "fdc009f2-bf9a-4081-d071-a14eb141449b"
      },
      "execution_count": null,
      "outputs": [
        {
          "output_type": "stream",
          "name": "stdout",
          "text": [
            "[BernoulliRBM] Iteration 1, pseudo-likelihood = -3.99, time = 0.37s\n",
            "[BernoulliRBM] Iteration 2, pseudo-likelihood = -3.85, time = 0.50s\n",
            "[BernoulliRBM] Iteration 3, pseudo-likelihood = -3.84, time = 0.48s\n",
            "[BernoulliRBM] Iteration 4, pseudo-likelihood = -3.84, time = 0.49s\n",
            "[BernoulliRBM] Iteration 5, pseudo-likelihood = -3.98, time = 0.49s\n",
            "[BernoulliRBM] Iteration 6, pseudo-likelihood = -3.89, time = 0.50s\n",
            "[BernoulliRBM] Iteration 7, pseudo-likelihood = -3.98, time = 0.46s\n",
            "[BernoulliRBM] Iteration 8, pseudo-likelihood = -3.97, time = 0.48s\n",
            "[BernoulliRBM] Iteration 9, pseudo-likelihood = -3.98, time = 0.51s\n",
            "[BernoulliRBM] Iteration 10, pseudo-likelihood = -3.92, time = 0.50s\n",
            "Logistic regression using RBM features:\n",
            "              precision    recall  f1-score   support\n",
            "\n",
            "           0       0.73      0.14      0.24       432\n",
            "           1       0.66      0.97      0.78       738\n",
            "\n",
            "    accuracy                           0.66      1170\n",
            "   macro avg       0.69      0.56      0.51      1170\n",
            "weighted avg       0.68      0.66      0.58      1170\n",
            "\n",
            "\n"
          ]
        }
      ]
    },
    {
      "cell_type": "code",
      "source": [
        "RBM(0.001,256,10)"
      ],
      "metadata": {
        "colab": {
          "base_uri": "https://localhost:8080/"
        },
        "id": "7FzZVn00ztRp",
        "outputId": "6e5767f9-d775-4345-ca43-a3aaf8a6d833"
      },
      "execution_count": null,
      "outputs": [
        {
          "output_type": "stream",
          "name": "stdout",
          "text": [
            "[BernoulliRBM] Iteration 1, pseudo-likelihood = -4.01, time = 0.11s\n",
            "[BernoulliRBM] Iteration 2, pseudo-likelihood = -3.91, time = 0.19s\n",
            "[BernoulliRBM] Iteration 3, pseudo-likelihood = -3.91, time = 0.19s\n",
            "[BernoulliRBM] Iteration 4, pseudo-likelihood = -3.93, time = 0.19s\n",
            "[BernoulliRBM] Iteration 5, pseudo-likelihood = -3.92, time = 0.20s\n",
            "[BernoulliRBM] Iteration 6, pseudo-likelihood = -3.93, time = 0.19s\n",
            "[BernoulliRBM] Iteration 7, pseudo-likelihood = -3.91, time = 0.19s\n",
            "[BernoulliRBM] Iteration 8, pseudo-likelihood = -3.90, time = 0.19s\n",
            "[BernoulliRBM] Iteration 9, pseudo-likelihood = -3.92, time = 0.19s\n",
            "[BernoulliRBM] Iteration 10, pseudo-likelihood = -3.92, time = 0.19s\n",
            "Logistic regression using RBM features:\n",
            "              precision    recall  f1-score   support\n",
            "\n",
            "           0       0.66      0.51      0.58       432\n",
            "           1       0.75      0.85      0.79       738\n",
            "\n",
            "    accuracy                           0.72      1170\n",
            "   macro avg       0.70      0.68      0.69      1170\n",
            "weighted avg       0.72      0.72      0.71      1170\n",
            "\n",
            "\n"
          ]
        }
      ]
    },
    {
      "cell_type": "code",
      "source": [
        "RBM(0.001,256,50)"
      ],
      "metadata": {
        "colab": {
          "base_uri": "https://localhost:8080/"
        },
        "id": "HhA0DCeFcSj2",
        "outputId": "be0aebc9-0725-4fbb-fe01-3d2856d3b83d"
      },
      "execution_count": null,
      "outputs": [
        {
          "output_type": "stream",
          "name": "stdout",
          "text": [
            "[BernoulliRBM] Iteration 1, pseudo-likelihood = -4.82, time = 0.13s\n",
            "[BernoulliRBM] Iteration 2, pseudo-likelihood = -4.25, time = 0.22s\n",
            "[BernoulliRBM] Iteration 3, pseudo-likelihood = -4.06, time = 0.26s\n",
            "[BernoulliRBM] Iteration 4, pseudo-likelihood = -3.99, time = 0.27s\n",
            "[BernoulliRBM] Iteration 5, pseudo-likelihood = -3.95, time = 0.27s\n",
            "[BernoulliRBM] Iteration 6, pseudo-likelihood = -3.92, time = 0.26s\n",
            "[BernoulliRBM] Iteration 7, pseudo-likelihood = -3.93, time = 0.26s\n",
            "[BernoulliRBM] Iteration 8, pseudo-likelihood = -3.91, time = 0.27s\n",
            "[BernoulliRBM] Iteration 9, pseudo-likelihood = -3.88, time = 0.27s\n",
            "[BernoulliRBM] Iteration 10, pseudo-likelihood = -3.89, time = 0.26s\n",
            "Logistic regression using RBM features:\n",
            "              precision    recall  f1-score   support\n",
            "\n",
            "           0       0.66      0.52      0.58       432\n",
            "           1       0.75      0.84      0.79       738\n",
            "\n",
            "    accuracy                           0.72      1170\n",
            "   macro avg       0.71      0.68      0.69      1170\n",
            "weighted avg       0.72      0.72      0.72      1170\n",
            "\n",
            "\n"
          ]
        }
      ]
    },
    {
      "cell_type": "code",
      "source": [
        "#Final model\n",
        "logistic = linear_model.LogisticRegression(penalty='l2',solver='liblinear', C=500)\n",
        "rbm = BernoulliRBM(random_state=0, verbose=0)\n",
        "\n",
        "rbm_features_classifier = Pipeline(steps=[(\"rbm\", rbm), (\"logistic\", logistic)])\n",
        "\n",
        "rbm.learning_rate = 0.001\n",
        "rbm.n_components = 300\n",
        "rbm.batch_size = 10\n",
        "\n",
        "rbm_features_classifier.fit(x_train, y_train)\n",
        "Y_pred = rbm_features_classifier.predict(x_test)\n",
        "print(\n",
        "    \"Logistic regression using RBM features:\\n%s\\n\"\n",
        "    % (metrics.classification_report(y_test, Y_pred))\n",
        ")"
      ],
      "metadata": {
        "colab": {
          "base_uri": "https://localhost:8080/"
        },
        "id": "z_ScVYCHcdZC",
        "outputId": "498e3baf-154b-487f-a58b-efcd88439dc4"
      },
      "execution_count": null,
      "outputs": [
        {
          "output_type": "stream",
          "name": "stdout",
          "text": [
            "Logistic regression using RBM features:\n",
            "              precision    recall  f1-score   support\n",
            "\n",
            "           0       0.64      0.55      0.59       229\n",
            "           1       0.77      0.83      0.80       421\n",
            "\n",
            "    accuracy                           0.73       650\n",
            "   macro avg       0.71      0.69      0.70       650\n",
            "weighted avg       0.73      0.73      0.73       650\n",
            "\n",
            "\n"
          ]
        }
      ]
    }
  ]
}